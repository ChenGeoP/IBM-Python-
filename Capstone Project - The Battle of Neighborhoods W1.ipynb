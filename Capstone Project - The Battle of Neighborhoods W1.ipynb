{
 "cells": [
  {
   "cell_type": "markdown",
   "metadata": {},
   "source": [
    "#### Introduction:\n",
    "As the most famous city in the world, New York City is seen as a business hub with a variety of people. Whilst being a business district and hub, New York is in a major hunt to ensure people have the opportunity to enjoy the worldwilde food. In the meantime, chinese food has been very popolar over the western world. A traitional chiense hot pot group is looking to open a flagship resturant in one of New York’s neighbourhoods. This will be the first resutrant of that hot pot brand in the US. It does not understand the area and the availability of chinese resturant in each neighbourhood and requires an investigation to take place in order to determine the best place for the franchise to open a new gym."
   ]
  },
  {
   "cell_type": "markdown",
   "metadata": {},
   "source": [
    "#### Data Requirements and sources:\n",
    "For the Project the following data sources will be used:\n",
    "\n",
    "1. Wikipedia to obtain density of each Borough in New York city\n",
    "2. New York City data that contains list Boroughs, Neighbourhoods along with their latitude and longitude.\n",
    "3. Chinese resturant in each neighbourhood of New York city.\n",
    "4. Geo Space data"
   ]
  },
  {
   "cell_type": "markdown",
   "metadata": {},
   "source": [
    "#### Methodology:\n",
    "The following methodology is used to determine the Key decision metrics:\n",
    "\n",
    "1. Scrap wikipedia page to get the denisity of each Borough \"https://en.wikipedia.org/wiki/New_York_City\"\n",
    "2. We begin by collecting the New York city data from \"https://cocl.us/new_york_dataset\".\n",
    "3. We will find all gyms for each neighborhood using FourSquare API.\n",
    "4. Get combine data to determine highest denisty of people per resturant in each Borough\n",
    "5. Evaluate best Borough Chinese resturant and determine best cluster.\n",
    "6. Visualise the best borough with the Chinese resturant to visually see spread"
   ]
  },
  {
   "cell_type": "markdown",
   "metadata": {},
   "source": [
    "#### Decisions metrics:\n",
    "The following decision metrics are requested in order to make an informed decision:\n",
    "\n",
    "1. Density of people for each Borough\n",
    "2. Number of Neighborhoods in each Borough\n",
    "3. Number of Chinese resturant in each Borough\n",
    "4. Chinese resturant in the Neighborhood with the best density metric per Chinese resturant\n",
    "5. Cluster Gyms in Neighborhood with the best density metric per Chinese resturant"
   ]
  }
 ],
 "metadata": {
  "kernelspec": {
   "display_name": "Python 3",
   "language": "python",
   "name": "python3"
  },
  "language_info": {
   "codemirror_mode": {
    "name": "ipython",
    "version": 3
   },
   "file_extension": ".py",
   "mimetype": "text/x-python",
   "name": "python",
   "nbconvert_exporter": "python",
   "pygments_lexer": "ipython3",
   "version": "3.7.0"
  }
 },
 "nbformat": 4,
 "nbformat_minor": 2
}
